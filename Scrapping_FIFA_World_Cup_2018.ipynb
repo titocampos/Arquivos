{
  "nbformat": 4,
  "nbformat_minor": 0,
  "metadata": {
    "colab": {
      "name": "Scrapping FIFA World Cup 2018",
      "provenance": [],
      "authorship_tag": "ABX9TyPaiKwZBPFvsgyZddOFOrGb",
      "include_colab_link": true
    },
    "kernelspec": {
      "name": "python3",
      "display_name": "Python 3"
    }
  },
  "cells": [
    {
      "cell_type": "markdown",
      "metadata": {
        "id": "view-in-github",
        "colab_type": "text"
      },
      "source": [
        "<a href=\"https://colab.research.google.com/github/titocampos/Arquivos/blob/master/Scrapping_FIFA_World_Cup_2018.ipynb\" target=\"_parent\"><img src=\"https://colab.research.google.com/assets/colab-badge.svg\" alt=\"Open In Colab\"/></a>"
      ]
    },
    {
      "cell_type": "markdown",
      "metadata": {
        "id": "YPUEnytZ8-IG",
        "colab_type": "text"
      },
      "source": [
        "# Scrapping FIFA World Cup 2018\n",
        "\n",
        "Os dados que você precisará nem sempre podem estar à vista. Mas a boa notícia é que estão lá, escondidos nas páginas da web. Você só precisa rastrear essas páginas para extraí-lo. É isso que o Web Scraping é. Vamos construir um dataset usando Python e BeautifulSoup para coletar dados da Copa do Mundo da FIFA 2018."
      ]
    },
    {
      "cell_type": "code",
      "metadata": {
        "id": "iFPU40TtIqPG",
        "colab_type": "code",
        "colab": {}
      },
      "source": [
        "import requests\n",
        "from bs4 import BeautifulSoup\n",
        "import pandas\n",
        "from collections import OrderedDict\n",
        "import time"
      ],
      "execution_count": 0,
      "outputs": []
    },
    {
      "cell_type": "markdown",
      "metadata": {
        "id": "n2Yr-CYz-BU6",
        "colab_type": "text"
      },
      "source": [
        "\n",
        "Utilizaremos a biblioteca **requests** para fazer o download da página. Já a \n",
        "**BeautifulSoup** usaremos esta para analisar a página HTML para extrair os dados de que precisamos."
      ]
    },
    {
      "cell_type": "code",
      "metadata": {
        "id": "mXbN-UX88v1C",
        "colab_type": "code",
        "colab": {}
      },
      "source": [
        "page = requests.get(\"https://fifa.com/worldcup/players/player/201200/profile.html\")\n",
        "soup = BeautifulSoup(page.content,\"html.parser\")\n",
        "print(soup.prettify())"
      ],
      "execution_count": 0,
      "outputs": []
    },
    {
      "cell_type": "markdown",
      "metadata": {
        "id": "aeKqadX1_LHJ",
        "colab_type": "text"
      },
      "source": [
        "Scraping é mais fácil quando o desenvolvedor da Web faz sua parte diligentemente, porque usaremos atributos HTML para saber quais dados exatos devem ser retornados. Na celula abaixo retornanmos o nome do jogador baseado na classe do div que ele está contido. "
      ]
    },
    {
      "cell_type": "code",
      "metadata": {
        "id": "ODJb-7Q6_KZD",
        "colab_type": "code",
        "outputId": "03042315-0266-4401-841d-29598844bbd1",
        "colab": {
          "base_uri": "https://localhost:8080/",
          "height": 34
        }
      },
      "source": [
        "print(soup.find(\"div\",{\"class\":\"fi-p__name\"}).text.replace(\"\\n\",\"\").strip())"
      ],
      "execution_count": 0,
      "outputs": [
        {
          "output_type": "stream",
          "text": [
            "CRISTIANO RONALDO\n"
          ],
          "name": "stdout"
        }
      ]
    },
    {
      "cell_type": "markdown",
      "metadata": {
        "id": "zVcqjEUgFAOJ",
        "colab_type": "text"
      },
      "source": [
        "Analisando o código fonte do site, encontrei este link onde todas as IDs de jogadores são mencionadas. Por isso, peguei esta página para listar os ID´s dos jogadores."
      ]
    },
    {
      "cell_type": "code",
      "metadata": {
        "id": "b0wIL4CQFAxh",
        "colab_type": "code",
        "colab": {}
      },
      "source": [
        "id_list = []\n",
        "request = requests.get(\"https://www.fifa.com/worldcup/players/_libraries/byposition/[id]/_players-list\")\n",
        "soup = BeautifulSoup(request.content,\"html.parser\")\n",
        "all_players = soup.find_all(\"a\",\"fi-p--link\")\n",
        "\n",
        "for player in all_players:\n",
        "    id_list.append(player['data-player-id'])\n",
        "\n",
        "df = pandas.DataFrame({\n",
        "\"Ids\":id_list\n",
        "})\n",
        "df.to_csv('player_ids.csv', index = False)\n",
        "print(df,\"\\n Success\")"
      ],
      "execution_count": 0,
      "outputs": []
    },
    {
      "cell_type": "markdown",
      "metadata": {
        "id": "PzFh7apCIUN5",
        "colab_type": "text"
      },
      "source": [
        "Agora que temos os IDs e sabemos como buscar cada parâmetro, basta passar esses IDs e executar toda a iteração."
      ]
    },
    {
      "cell_type": "code",
      "metadata": {
        "id": "61ahkWKRF0WA",
        "colab_type": "code",
        "outputId": "5bed3f3d-e3d8-4155-a82e-15c63d4a9953",
        "colab": {
          "base_uri": "https://localhost:8080/",
          "height": 580
        }
      },
      "source": [
        "player_ids = pandas.read_csv(\"player_ids.csv\")\n",
        "ids = player_ids[\"Ids\"]\n",
        "\n",
        "base_url = \"https://www.fifa.com/worldcup/players/player/\"\n",
        "player_list = []\n",
        "\n",
        "for id in ids[0:30]:\n",
        "    d=OrderedDict()\n",
        "    request = requests.get(base_url+str(id)+\"/profile.html\")\n",
        "    content = request.content\n",
        "    soup = BeautifulSoup(content,\"html.parser\")\n",
        "    d['id'] = id\n",
        "    d['Name'] = soup.find(\"div\",{\"class\":\"fi-p__name\"}).text.replace(\"\\n\",\"\").strip()\n",
        "    d['Country'] = soup.find(\"div\",{\"class\":\"fi-p__country\"}).text.replace(\"\\n\",\"\").strip()\n",
        "    d['Role'] = soup.find(\"div\",{\"class\":\"fi-p__role\"}).text.replace(\"\\n\",\"\").strip()\n",
        "    d['Age'] = soup.find(\"div\",{\"class\":\"fi-p__profile-number__number\"}).text.replace(\"\\n\",\"\").strip()\n",
        "    d['Height(cm)'] = soup.find_all(\"div\",{\"class\":\"fi-p__profile-number__number\"})[1].text.replace(\"\\n\",\"\").strip()\n",
        "    d['International Caps'] = soup.find_all(\"div\",{\"class\":\"fi-p__profile-number__number\"})[2].text.replace(\"\\n\",\"\").strip()\n",
        "    d['International Goals'] = soup.find_all(\"div\",{\"class\":\"fi-p__profile-number__number\"})[3].text.replace(\"\\n\",\"\").strip()\n",
        "    print(d['Name'])\n",
        "    player_list.append(d)\n",
        "    time.sleep(0.2)\n",
        "\n",
        "df = pandas.DataFrame(player_list)\n",
        "df.to_csv('Players_info.csv', index = False)\n",
        "print(\"Success \\n\")"
      ],
      "execution_count": 0,
      "outputs": [
        {
          "output_type": "stream",
          "text": [
            "Pedro GALLESE\n",
            "Alberto RODRIGUEZ\n",
            "Aldo CORZO\n",
            "Anderson SANTAMARIA\n",
            "Miguel ARAUJO\n",
            "Miguel TRAUCO\n",
            "Paolo HURTADO\n",
            "Christian CUEVA\n",
            "Paolo GUERRERO\n",
            "Jefferson FARFAN\n",
            "Raul RUIDIAZ\n",
            "Carlos CACEDA\n",
            "Renato TAPIA\n",
            "Andy POLO\n",
            "Christian RAMOS\n",
            "Wilder CARTAGENA\n",
            "Luis ADVINCULA\n",
            "Andre CARRILLO\n",
            "Yoshimar YOTUN\n",
            "Edison FLORES\n",
            "Jose CARVALLO\n",
            "Nilson LOYOLA\n",
            "Pedro AQUINO\n",
            "Yassine BOUNOU\n",
            "Achraf HAKIMI\n",
            "Hamza MENDYL\n",
            "Manuel DA COSTA\n",
            "Mehdi BENATIA\n",
            "Ghanem SAISS\n",
            "Hakim ZIYACH\n",
            "Success \n",
            "\n"
          ],
          "name": "stdout"
        }
      ]
    },
    {
      "cell_type": "code",
      "metadata": {
        "id": "4v16TVIiLiTk",
        "colab_type": "code",
        "outputId": "e7b78be4-3d6f-45fd-bb59-03909c69bc66",
        "colab": {
          "base_uri": "https://localhost:8080/",
          "height": 195
        }
      },
      "source": [
        "df.head()"
      ],
      "execution_count": 0,
      "outputs": [
        {
          "output_type": "execute_result",
          "data": {
            "text/html": [
              "<div>\n",
              "<style scoped>\n",
              "    .dataframe tbody tr th:only-of-type {\n",
              "        vertical-align: middle;\n",
              "    }\n",
              "\n",
              "    .dataframe tbody tr th {\n",
              "        vertical-align: top;\n",
              "    }\n",
              "\n",
              "    .dataframe thead th {\n",
              "        text-align: right;\n",
              "    }\n",
              "</style>\n",
              "<table border=\"1\" class=\"dataframe\">\n",
              "  <thead>\n",
              "    <tr style=\"text-align: right;\">\n",
              "      <th></th>\n",
              "      <th>id</th>\n",
              "      <th>Name</th>\n",
              "      <th>Country</th>\n",
              "      <th>Role</th>\n",
              "      <th>Age</th>\n",
              "      <th>Height(cm)</th>\n",
              "      <th>International Caps</th>\n",
              "      <th>International Goals</th>\n",
              "    </tr>\n",
              "  </thead>\n",
              "  <tbody>\n",
              "    <tr>\n",
              "      <th>0</th>\n",
              "      <td>275261</td>\n",
              "      <td>Pedro GALLESE</td>\n",
              "      <td>Peru</td>\n",
              "      <td>Goalkeeper</td>\n",
              "      <td>29</td>\n",
              "      <td>189.0 cm</td>\n",
              "      <td>42</td>\n",
              "      <td>0</td>\n",
              "    </tr>\n",
              "    <tr>\n",
              "      <th>1</th>\n",
              "      <td>202638</td>\n",
              "      <td>Alberto RODRIGUEZ</td>\n",
              "      <td>Peru</td>\n",
              "      <td>Defender</td>\n",
              "      <td>35</td>\n",
              "      <td>184.0 cm</td>\n",
              "      <td>0</td>\n",
              "      <td>0</td>\n",
              "    </tr>\n",
              "    <tr>\n",
              "      <th>2</th>\n",
              "      <td>306194</td>\n",
              "      <td>Aldo CORZO</td>\n",
              "      <td>Peru</td>\n",
              "      <td>Defender</td>\n",
              "      <td>30</td>\n",
              "      <td>173.0 cm</td>\n",
              "      <td>0</td>\n",
              "      <td>0</td>\n",
              "    </tr>\n",
              "    <tr>\n",
              "      <th>3</th>\n",
              "      <td>398457</td>\n",
              "      <td>Anderson SANTAMARIA</td>\n",
              "      <td>Peru</td>\n",
              "      <td>Defender</td>\n",
              "      <td>28</td>\n",
              "      <td>185.0 cm</td>\n",
              "      <td>0</td>\n",
              "      <td>0</td>\n",
              "    </tr>\n",
              "    <tr>\n",
              "      <th>4</th>\n",
              "      <td>368000</td>\n",
              "      <td>Miguel ARAUJO</td>\n",
              "      <td>Peru</td>\n",
              "      <td>Defender</td>\n",
              "      <td>25</td>\n",
              "      <td>180.0 cm</td>\n",
              "      <td>0</td>\n",
              "      <td>0</td>\n",
              "    </tr>\n",
              "  </tbody>\n",
              "</table>\n",
              "</div>"
            ],
            "text/plain": [
              "       id                 Name  ... International Caps International Goals\n",
              "0  275261        Pedro GALLESE  ...                 42                   0\n",
              "1  202638    Alberto RODRIGUEZ  ...                  0                   0\n",
              "2  306194           Aldo CORZO  ...                  0                   0\n",
              "3  398457  Anderson SANTAMARIA  ...                  0                   0\n",
              "4  368000        Miguel ARAUJO  ...                  0                   0\n",
              "\n",
              "[5 rows x 8 columns]"
            ]
          },
          "metadata": {
            "tags": []
          },
          "execution_count": 35
        }
      ]
    }
  ]
}